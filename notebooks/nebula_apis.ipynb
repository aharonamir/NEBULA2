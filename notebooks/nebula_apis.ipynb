{
 "cells": [
  {
   "cell_type": "markdown",
   "metadata": {},
   "source": [
    "Second stage - playing with API"
   ]
  },
  {
   "cell_type": "code",
   "execution_count": null,
   "metadata": {},
   "outputs": [
    {
     "name": "stdout",
     "output_type": "stream",
     "text": [
      "http://ec2-18-158-123-0.eu-central-1.compute.amazonaws.com:8529/\n"
     ]
    }
   ],
   "source": [
    "import sys\n",
    "sys.path.append(\"../\") \n",
    "from nebula_api.nebula_enrichment_api import NRE_API\n",
    "nre = NRE_API()\n",
    "db = nre.db\n",
    "print(nre.db_host)"
   ]
  },
  {
   "cell_type": "markdown",
   "metadata": {},
   "source": [
    "1) Scene detection using API. Copy new video to ~/upload"
   ]
  },
  {
   "cell_type": "code",
   "execution_count": 9,
   "metadata": {},
   "outputs": [
    {
     "name": "stdout",
     "output_type": "stream",
     "text": [
      "New movie found\n",
      "1017_Bad_Santa_00.53.52.592-00.53.58.245.avi\n",
      "1017_Bad_Santa_00\n"
     ]
    },
    {
     "name": "stderr",
     "output_type": "stream",
     "text": [
      " 17%|█▋        | 19/114 [00:00<00:00, 185.75frames/s]"
     ]
    },
    {
     "name": "stdout",
     "output_type": "stream",
     "text": [
      "DEBUG:  /home/dimas/tests/1017_Bad_Santa_00.mp4\n"
     ]
    },
    {
     "name": "stderr",
     "output_type": "stream",
     "text": [
      "100%|██████████| 114/114 [00:00<00:00, 196.59frames/s]\n",
      " 18%|█▊        | 20/114 [00:00<00:00, 195.54frames/s]"
     ]
    },
    {
     "name": "stdout",
     "output_type": "stream",
     "text": [
      "Scenes:  [[0, 114]]\n"
     ]
    },
    {
     "name": "stderr",
     "output_type": "stream",
     "text": [
      "100%|██████████| 114/114 [00:00<00:00, 229.43frames/s]\n"
     ]
    },
    {
     "name": "stdout",
     "output_type": "stream",
     "text": [
      "Scenes:  [[0, 114]]\n",
      "TODO\n",
      "{'movie_id': '29744e1ba67e438aa078b2fd022dea45', 'file_name': '1017_Bad_Santa_00.53.52.592-00.53.58.245.avi', 'movie_name': '1017_Bad_Santa_00', 'description': '1017_Bad_Santa_00', 'tags': ['lsmdc', 'pegasus', 'visual genome'], 'full_path': '/home/dimas/tests/1017_Bad_Santa_00.mp4', 'url': 'static/development/1017_Bad_Santa_00.mp4', 'last_frame': 300, 'scenes': [[0, 114]], 'scene_elements': [[0, 114]], 'mdfs': [[3, 60, 110]], 'metadata': {'width': 1920, 'height': 1080, 'fps': 23}, 'status': 'created'}\n",
      "[('/home/dimas/upload/1017_Bad_Santa_00.53.52.592-00.53.58.245.avi', 'Movies/121081267')]\n"
     ]
    }
   ],
   "source": [
    "from nebula_api.scene_detector_api import NEBULA_SCENE_DETECTOR\n",
    "\n",
    "scene_detector = NEBULA_SCENE_DETECTOR() \n",
    "movies= scene_detector.new_movies_batch_processing(\"/home/dimas/upload\", \"/home/dimas/tests\", \"development\")\n",
    "print(movies)"
   ]
  },
  {
   "cell_type": "markdown",
   "metadata": {},
   "source": [
    "Upload frames to S3 for future processing (experts)"
   ]
  },
  {
   "cell_type": "code",
   "execution_count": null,
   "metadata": {},
   "outputs": [
    {
     "name": "stdout",
     "output_type": "stream",
     "text": [
      "/dataset/frames/\n"
     ]
    }
   ],
   "source": [
    "for movie in movies:\n",
    "    scene_detector.store_frames_to_s3(movie[1], \"/dataset/frames/\", movie[0])"
   ]
  },
  {
   "cell_type": "markdown",
   "metadata": {},
   "source": [
    "2) Create StoryLine - get CLIP sentences and triplets using MilvusAPI from Milvus vector DB and create related entities in StoryLine collection of ArangoDB (see milvus_api for)"
   ]
  },
  {
   "cell_type": "code",
   "execution_count": null,
   "metadata": {},
   "outputs": [
    {
     "name": "stdout",
     "output_type": "stream",
     "text": [
      "Milvus Collection Loaded:  scene_graph_visual_genome\n",
      "Milvus Collection Loaded:  pegasus\n",
      "{'Movies/121081267': {'_key': '121081267', '_id': 'Movies/121081267', '_rev': '_dJbDATW---', 'movie_id': '699b48742ce04a76af4d8acb87df8d64', 'file_name': '1017_Bad_Santa_00.53.52.592-00.53.58.245.avi', 'movie_name': '1017_Bad_Santa_00', 'description': '1017_Bad_Santa_00', 'tags': ['lsmdc', 'pegasus', 'visual genome'], 'full_path': '/home/dimas/tests/1017_Bad_Santa_00.mp4', 'url_path': 'static/development/1017_Bad_Santa_00.mp4', 'last_frame': 300, 'scenes': [[0, 136]], 'scene_elements': [[0, 115], [115, 136]], 'mdfs': [[3, 61, 112], [118, 128, 132]], 'meta': {'fps': 23, 'height': 1080, 'width': 1920}, 'updates': 3, 'status': 'created'}}\n",
      "Processing Movie:  ('/home/dimas/upload/1017_Bad_Santa_00.53.52.592-00.53.58.245.avi', 'Movies/121081267')\n",
      "/home/dimas/tests/1017_Bad_Santa_00.mp4\n",
      "Scene:  0\n",
      "/home/dimas/tests/1017_Bad_Santa_00.mp4\n",
      "Scene:  1\n"
     ]
    }
   ],
   "source": [
    "from nebula_api.story_line_api import STORY_LINE_API\n",
    "story_line = STORY_LINE_API() \n",
    "meta_ = story_line.get_movie_meta(movie[1])\n",
    "print(meta_)\n",
    "meta = meta_[movie[1]]\n",
    "print(\"Processing Movie: \", movie)\n",
    "for i, scene_element in enumerate(meta['scene_elements']):\n",
    "    file_name = meta['full_path']\n",
    "    movie_id = meta['movie_id']\n",
    "    arango_id = meta['_id']\n",
    "    mdfs = meta['mdfs'][i]\n",
    "    start_frame = scene_element[0]\n",
    "    stop_frame = scene_element[1]\n",
    "    stage = i\n",
    "    story_line.create_story_line(file_name, movie_id, arango_id, stage, start_frame, stop_frame, mdfs)\n",
    "            "
   ]
  },
  {
   "cell_type": "markdown",
   "metadata": {},
   "source": [
    "Add metadata to ElasticSearch, make it possible to search in WebUI by keywords"
   ]
  },
  {
   "cell_type": "code",
   "execution_count": 11,
   "metadata": {},
   "outputs": [
    {
     "name": "stderr",
     "output_type": "stream",
     "text": [
      "2021-10-25 12:04:33,272 - POST http://ec2-18-158-123-0.eu-central-1.compute.amazonaws.com:9200/datadriven/_doc [status:201 request:0.005s]\n",
      "2021-10-25 12:04:33,275 - POST http://ec2-18-158-123-0.eu-central-1.compute.amazonaws.com:9200/datadriven/_search [status:200 request:0.002s]\n"
     ]
    },
    {
     "name": "stdout",
     "output_type": "stream",
     "text": [
      "Processing Movie:  Movies/121081267\n",
      "ID:  BHFVt3wB8pdCmyP2yBJx\n",
      "Found existing index for  Movies/121081267  updating\n",
      "DEBUG:  FOR doc IN Movies FILTER doc._id == \"Movies/121081267\"  RETURN doc\n",
      "DEBUG:  {'movie_name': '1017_Bad_Santa_00', 'video': '/static/development/1017_Bad_Santa_00.mp4', 'url': '/static/development/1017_Bad_Santa_00.mp4', 'slice_interval': '00:00-00:04', 'timestamp': '0', 'description': 'man red truck . character deliver doctor standing ambulance body electric golf cart get entity guide jump start car classic scooter jacket clean actor mystery holiday flag mayor american football safety tackle vacation artist motorcycle undisputed king movie snowsuit wear white santa claus wheel mailman bend mail cross guard vest green blazer crossing blade tip residue', 'tags': ['lsmdc', 'pegasus', 'visual genome'], 'main_tags': ['man', 'red', 'snowsuit', 'man', 'wear', 'red', 'white', 'jacket', 'man', 'red', 'jacket', 'santa', 'claus', 'motorcycle', 'santa', 'wear', 'jacket', 'man', 'santa', 'claus', 'santa', 'wear', 'jacket', 'scooter', 'wheel', 'red', 'jacket', 'motorcycle', 'mailman', 'bend', 'mail', 'truck', 'cross', 'guard', 'wear', 'vest', 'man', 'green', 'blazer', 'man', 'green', 'blazer', 'vest', 'crossing', 'guard', 'cross', 'guard', 'wear', 'vest', 'blade', 'tip', 'vest', 'crossing', 'guard', 'blade', 'residue'], 'story': ['A men is in a red truck.', 'A character is delivering a red truck.', 'The doctor is standing in an ambulance.', 'The bodies had electric golf carts.', 'A man is getting a golf cart.', 'The entity guide jump starting a car.', 'The entity guide jump starting a car.', 'Classic scooter has a jacket.', 'A man cleans a red car.', 'An actor gets a mystery man holiday.', 'The flag mayor is an actor.', 'American football safety tackles an actor.', 'An actor gets a mystery man holiday.', 'The vacation artist is an actor.', 'The motorcycle jacket is undisputed king.', 'An actor gets a mystery man holiday.', 'The vacation artist is an actor.', 'The actor is in a scooter movie.'], 'movie_time_begin': '0', 'movie_time_end': '001', 'scenes': [[0, 114]], 'scene_elements': [[0, 114]], 'confidence': [], 'parents': '', 'db_id': 'Movies/121081267'}\n",
      "DOCS:  [{'movie_name': '1017_Bad_Santa_00', 'video': '/static/development/1017_Bad_Santa_00.mp4', 'url': '/static/development/1017_Bad_Santa_00.mp4', 'slice_interval': '00:00-00:04', 'timestamp': '0', 'description': 'man red truck . character deliver doctor standing ambulance body electric golf cart get entity guide jump start car classic scooter jacket clean actor mystery holiday flag mayor american football safety tackle vacation artist motorcycle undisputed king movie snowsuit wear white santa claus wheel mailman bend mail cross guard vest green blazer crossing blade tip residue', 'tags': ['lsmdc', 'pegasus', 'visual genome'], 'main_tags': ['man', 'red', 'snowsuit', 'man', 'wear', 'red', 'white', 'jacket', 'man', 'red', 'jacket', 'santa', 'claus', 'motorcycle', 'santa', 'wear', 'jacket', 'man', 'santa', 'claus', 'santa', 'wear', 'jacket', 'scooter', 'wheel', 'red', 'jacket', 'motorcycle', 'mailman', 'bend', 'mail', 'truck', 'cross', 'guard', 'wear', 'vest', 'man', 'green', 'blazer', 'man', 'green', 'blazer', 'vest', 'crossing', 'guard', 'cross', 'guard', 'wear', 'vest', 'blade', 'tip', 'vest', 'crossing', 'guard', 'blade', 'residue'], 'story': ['A men is in a red truck.', 'A character is delivering a red truck.', 'The doctor is standing in an ambulance.', 'The bodies had electric golf carts.', 'A man is getting a golf cart.', 'The entity guide jump starting a car.', 'The entity guide jump starting a car.', 'Classic scooter has a jacket.', 'A man cleans a red car.', 'An actor gets a mystery man holiday.', 'The flag mayor is an actor.', 'American football safety tackles an actor.', 'An actor gets a mystery man holiday.', 'The vacation artist is an actor.', 'The motorcycle jacket is undisputed king.', 'An actor gets a mystery man holiday.', 'The vacation artist is an actor.', 'The actor is in a scooter movie.'], 'movie_time_begin': '0', 'movie_time_end': '001', 'scenes': [[0, 114]], 'scene_elements': [[0, 114]], 'confidence': [], 'parents': '', 'db_id': 'Movies/121081267'}]\n",
      "{'movie_name': '1017_Bad_Santa_00', 'video': '/static/development/1017_Bad_Santa_00.mp4', 'url': '/static/development/1017_Bad_Santa_00.mp4', 'slice_interval': '00:00-00:04', 'timestamp': '0', 'description': 'man red truck . character deliver doctor standing ambulance body electric golf cart get entity guide jump start car classic scooter jacket clean actor mystery holiday flag mayor american football safety tackle vacation artist motorcycle undisputed king movie snowsuit wear white santa claus wheel mailman bend mail cross guard vest green blazer crossing blade tip residue', 'tags': ['lsmdc', 'pegasus', 'visual genome'], 'main_tags': ['man', 'red', 'snowsuit', 'man', 'wear', 'red', 'white', 'jacket', 'man', 'red', 'jacket', 'santa', 'claus', 'motorcycle', 'santa', 'wear', 'jacket', 'man', 'santa', 'claus', 'santa', 'wear', 'jacket', 'scooter', 'wheel', 'red', 'jacket', 'motorcycle', 'mailman', 'bend', 'mail', 'truck', 'cross', 'guard', 'wear', 'vest', 'man', 'green', 'blazer', 'man', 'green', 'blazer', 'vest', 'crossing', 'guard', 'cross', 'guard', 'wear', 'vest', 'blade', 'tip', 'vest', 'crossing', 'guard', 'blade', 'residue'], 'story': ['A men is in a red truck.', 'A character is delivering a red truck.', 'The doctor is standing in an ambulance.', 'The bodies had electric golf carts.', 'A man is getting a golf cart.', 'The entity guide jump starting a car.', 'The entity guide jump starting a car.', 'Classic scooter has a jacket.', 'A man cleans a red car.', 'An actor gets a mystery man holiday.', 'The flag mayor is an actor.', 'American football safety tackles an actor.', 'An actor gets a mystery man holiday.', 'The vacation artist is an actor.', 'The motorcycle jacket is undisputed king.', 'An actor gets a mystery man holiday.', 'The vacation artist is an actor.', 'The actor is in a scooter movie.'], 'movie_time_begin': '0', 'movie_time_end': '001', 'scenes': [[0, 114]], 'scene_elements': [[0, 114]], 'confidence': [], 'parents': '', 'db_id': 'Movies/121081267'}\n"
     ]
    },
    {
     "name": "stderr",
     "output_type": "stream",
     "text": [
      "2021-10-25 12:04:33,481 - POST http://ec2-18-158-123-0.eu-central-1.compute.amazonaws.com:9200/datadriven/_update/BHFVt3wB8pdCmyP2yBJx [status:200 request:0.008s]\n"
     ]
    },
    {
     "name": "stdout",
     "output_type": "stream",
     "text": [
      "Index created for:  Movies/121081267\n"
     ]
    }
   ],
   "source": [
    "from nebula_api.elastic_index_api import ELASTIC_SEARCH\n",
    "es = ELASTIC_SEARCH()\n",
    "print(\"Processing Movie: \", movie[1])\n",
    "es.insert_update_index(movie[1])\n",
    "print(\"Index created for: \", movie[1])"
   ]
  },
  {
   "cell_type": "markdown",
   "metadata": {},
   "source": [
    "Please see SceneGraph.py and StoryGraph.py for different GRAPH creation strategies:\n",
    "Examples:\n",
    "1) scene_graph.create_scene_graph(movie) # Create triplet-based scene for one scene element graph\n",
    "2) story_graph.create_story_graph(movie) # Connect all scene element in one movie graph"
   ]
  },
  {
   "cell_type": "code",
   "execution_count": null,
   "metadata": {},
   "outputs": [],
   "source": []
  }
 ],
 "metadata": {
  "interpreter": {
   "hash": "f1e1eaa55236d35b417a2f68bc3e40327e877bbc342d1fc8ea9111a3d0b1323c"
  },
  "kernelspec": {
   "display_name": "Python 3.9.4 64-bit ('data_driven': conda)",
   "name": "python3"
  },
  "language_info": {
   "codemirror_mode": {
    "name": "ipython",
    "version": 3
   },
   "file_extension": ".py",
   "mimetype": "text/x-python",
   "name": "python",
   "nbconvert_exporter": "python",
   "pygments_lexer": "ipython3",
   "version": "3.9.7"
  }
 },
 "nbformat": 4,
 "nbformat_minor": 2
}
